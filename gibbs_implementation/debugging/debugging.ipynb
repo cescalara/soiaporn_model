{
 "cells": [
  {
   "cell_type": "code",
   "execution_count": 14,
   "metadata": {
    "ExecuteTime": {
     "end_time": "2018-07-01T16:10:21.234427Z",
     "start_time": "2018-07-01T16:10:21.230690Z"
    }
   },
   "outputs": [],
   "source": [
    "import sys\n",
    "sys.path.append('../metropolis_within_gibbs/')\n",
    "from soiaporn_functions import *\n",
    "from fancy import Data\n",
    "import pystan"
   ]
  },
  {
   "cell_type": "code",
   "execution_count": 19,
   "metadata": {
    "ExecuteTime": {
     "end_time": "2018-07-01T16:10:49.138239Z",
     "start_time": "2018-07-01T16:10:49.081818Z"
    }
   },
   "outputs": [],
   "source": [
    "# load data\n",
    "uhecr_file = 'data/augerUHECR_data2010.dat'\n",
    "source_file = 'data/agn_catalog.dat'\n",
    "\n",
    "data = Data()\n",
    "data.add_source(source_file, 'AGN')\n",
    "data.add_uhecr(uhecr_file, 'Auger2010')\n",
    "\n",
    "N_C = len(data.uhecr.energy)\n",
    "theta = np.deg2rad(data.uhecr.incidence_angle)\n",
    "d = data.uhecr.unit_vector\n",
    "varpi = data.source.unit_vector\n",
    "D = data.source.distance\n",
    "\n",
    "# hyperparametrs\n",
    "a = 1 \n",
    "b = 1\n",
    "s = 0.01 * 4 * np.pi\n",
    "\n",
    "\n",
    "F_T = 0.2\n",
    "f = 0.1\n",
    "\n",
    "my_table_file = 'data/tableforfig4.data.R'\n",
    "eps = np.transpose(pystan.read_rdump(my_table_file)['table'])\n",
    "alpha_T = 20370\n",
    "M = 7.42\n",
    "eps = eps * alpha_T / M"
   ]
  },
  {
   "cell_type": "code",
   "execution_count": 17,
   "metadata": {
    "ExecuteTime": {
     "end_time": "2018-07-01T16:10:41.887386Z",
     "start_time": "2018-07-01T16:10:41.880488Z"
    }
   },
   "outputs": [
    {
     "name": "stdout",
     "output_type": "stream",
     "text": [
      "nan\n",
      "2.123536356245786e-50\n"
     ]
    },
    {
     "name": "stderr",
     "output_type": "stream",
     "text": [
      "metropolis_within_gibbs/soiaporn_functions.py:49: RuntimeWarning: overflow encountered in sinh\n",
      "  term1 = kappa * kappa_c / (4 * np.pi * np.sinh(kappa) * np.sinh(kappa_c))\n",
      "metropolis_within_gibbs/soiaporn_functions.py:51: RuntimeWarning: overflow encountered in sinh\n",
      "  term2 = np.sinh(inner) / inner\n",
      "metropolis_within_gibbs/soiaporn_functions.py:52: RuntimeWarning: invalid value encountered in double_scalars\n",
      "  return A * np.cos(theta_i) * term1 * term2\n"
     ]
    }
   ],
   "source": [
    "kappa = 100 \n",
    "kappa_c = 1000\n",
    "a = fik(kappa, kappa_c, d[0], varpi[0], theta[0])\n",
    "b = np.exp(log_fik(kappa, kappa_c, d[0], varpi[0], theta[0]))\n",
    "print(a)\n",
    "print(b)"
   ]
  },
  {
   "cell_type": "code",
   "execution_count": 28,
   "metadata": {
    "ExecuteTime": {
     "end_time": "2018-07-01T16:56:56.918906Z",
     "start_time": "2018-07-01T16:56:56.876083Z"
    }
   },
   "outputs": [],
   "source": [
    "w = get_weights(D)\n",
    "lam = []\n",
    "for i in range(N_C):\n",
    "    p = get_p_lam(f, eps[2], kappa, kappa_c, d[i], theta[i], varpi, w)\n",
    "    sample = np.asarray(np.random.multinomial(1, p))\n",
    "    lam.append(np.where(sample == 1)[0][0])"
   ]
  },
  {
   "cell_type": "code",
   "execution_count": 31,
   "metadata": {
    "ExecuteTime": {
     "end_time": "2018-07-01T16:59:59.802624Z",
     "start_time": "2018-07-01T16:59:59.799685Z"
    }
   },
   "outputs": [
    {
     "name": "stdout",
     "output_type": "stream",
     "text": [
      "0.9565217391304348\n"
     ]
    }
   ],
   "source": [
    "print(lam.count(0)/ N_C)"
   ]
  },
  {
   "cell_type": "code",
   "execution_count": 38,
   "metadata": {
    "ExecuteTime": {
     "end_time": "2018-07-01T17:02:31.732009Z",
     "start_time": "2018-07-01T17:02:31.728562Z"
    }
   },
   "outputs": [
    {
     "name": "stdout",
     "output_type": "stream",
     "text": [
      "0.0\n"
     ]
    }
   ],
   "source": [
    "c = np.exp(log_p_f(F_T, 0.1, eps[2], lam, w, N_C, a, b))\n",
    "print(c)"
   ]
  }
 ],
 "metadata": {
  "kernelspec": {
   "display_name": "Python (bayes)",
   "language": "python",
   "name": "bayes"
  },
  "language_info": {
   "codemirror_mode": {
    "name": "ipython",
    "version": 3
   },
   "file_extension": ".py",
   "mimetype": "text/x-python",
   "name": "python",
   "nbconvert_exporter": "python",
   "pygments_lexer": "ipython3",
   "version": "3.6.4"
  }
 },
 "nbformat": 4,
 "nbformat_minor": 2
}
