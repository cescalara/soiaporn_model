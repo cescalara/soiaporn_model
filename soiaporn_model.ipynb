{
 "cells": [
  {
   "cell_type": "markdown",
   "metadata": {},
   "source": [
    "# Soiaporn model\n",
    "\n",
    "Prototype the Metropolis-within-Gibbs sampling technique presented in Soiaporn et al. 2012.\n",
    "\n",
    "The full conditionals:\n",
    "\n",
    "$$\n",
    "F_T | f, \\lambda, D \\sim Gamma \\bigg(N_C +1, \\frac{1}{1/s + (1 - f)\\epsilon_0 + f \\sum_{k \\geq 1} w_k \\epsilon_k}\\bigg)\n",
    "$$\n",
    "\n",
    "$$\n",
    "P(\\lambda_i | F_T, f, D) \\propto \\frac{f_{\\lambda_i}}{\\epsilon_{\\lambda_i}} h_{\\lambda_i}\n",
    "$$\n",
    "\n",
    "Where $h_{j} = (1 - f) \\epsilon_0$ if $j = 0$ and $h_j = fw_j\\epsilon_j$ if $j \\geq 1$.\n",
    "\n",
    "$$\n",
    "P(f | \\lambda, F_T, D) \\propto e^{-F_T [  (1 - f)\\epsilon_0  + f \\sum_{k \\geq 1} \\epsilon_k w_k] } \\times (1-f)^{m_0(\\lambda) + b - 1}f^{N_C - m_0(\\lambda)+a-1}\n",
    "$$\n",
    "\n",
    "\n",
    "$F_T$ and $\\lambda$ are sampled directly from the gamma and multinomial distributions. $f$ is sampled using a random walk Metropolis algorithm with Gaussian proposals centred on the current value of $f$. The variance of the proposal distribution was tuned to give an acceptance rate of 25%.\n",
    "\n",
    "$\\kappa$ is treated specially, they consider a logarithmically spaced grid of values to condition on. So, treat $\\kappa$ as fixed. "
   ]
  },
  {
   "cell_type": "code",
   "execution_count": 11,
   "metadata": {
    "ExecuteTime": {
     "end_time": "2018-06-29T16:20:11.341719Z",
     "start_time": "2018-06-29T16:20:11.337921Z"
    }
   },
   "outputs": [],
   "source": [
    "import numpy as np\n",
    "from matplotlib import pyplot as plt\n",
    "from fancy import Data\n",
    "import pystan\n",
    "from soiaporn_functions import *"
   ]
  },
  {
   "cell_type": "markdown",
   "metadata": {},
   "source": [
    "## Set up"
   ]
  },
  {
   "cell_type": "code",
   "execution_count": 2,
   "metadata": {
    "ExecuteTime": {
     "end_time": "2018-06-29T16:19:14.858550Z",
     "start_time": "2018-06-29T16:19:14.851978Z"
    }
   },
   "outputs": [],
   "source": [
    "# choose initial values\n",
    "kappa = 10\n",
    "kappa_c = 100\n",
    "F_T = 0.2 \n",
    "f = 0.5\n",
    "\n",
    "alpha_T = 20370\n",
    "M = 7.42\n",
    "\n",
    "# hyperparametrs\n",
    "a = 1\n",
    "b = a\n",
    "s = 0.01 * 4 * np.pi"
   ]
  },
  {
   "cell_type": "code",
   "execution_count": 3,
   "metadata": {
    "ExecuteTime": {
     "end_time": "2018-06-29T16:19:14.906878Z",
     "start_time": "2018-06-29T16:19:14.860682Z"
    }
   },
   "outputs": [],
   "source": [
    "# load data\n",
    "uhecr_file = '../uhecr_model/data/auger_UHECR_list.dat'\n",
    "source_file = 'data/agn_catalog.dat'\n",
    "\n",
    "data = Data()\n",
    "data.add_source(source_file, 'AGN')\n",
    "data.add_uhecr(uhecr_file, 'Auger2010')\n",
    "\n",
    "N_C = len(data.uhecr.energy)"
   ]
  },
  {
   "cell_type": "code",
   "execution_count": 4,
   "metadata": {
    "ExecuteTime": {
     "end_time": "2018-06-29T16:19:14.914012Z",
     "start_time": "2018-06-29T16:19:14.909136Z"
    }
   },
   "outputs": [],
   "source": [
    "# integral tables\n",
    "sim_table = 'data/tablekappa100.data.R'\n",
    "eps = pystan.read_rdump(sim_table)['table'][0]\n",
    "\n",
    "eps = eps * alpha_T / M"
   ]
  },
  {
   "cell_type": "code",
   "execution_count": 5,
   "metadata": {
    "ExecuteTime": {
     "end_time": "2018-06-29T16:19:14.919860Z",
     "start_time": "2018-06-29T16:19:14.916487Z"
    }
   },
   "outputs": [],
   "source": [
    "# weights\n",
    "w = get_weights(data.source.distance)"
   ]
  },
  {
   "cell_type": "code",
   "execution_count": 6,
   "metadata": {
    "ExecuteTime": {
     "end_time": "2018-06-29T16:19:14.926868Z",
     "start_time": "2018-06-29T16:19:14.921954Z"
    }
   },
   "outputs": [],
   "source": [
    "theta = np.deg2rad(data.uhecr.incidence_angle)\n",
    "d = data.uhecr.unit_vector\n",
    "varpi = data.source.unit_vector"
   ]
  },
  {
   "cell_type": "markdown",
   "metadata": {},
   "source": [
    "## Sampler"
   ]
  },
  {
   "cell_type": "code",
   "execution_count": 7,
   "metadata": {
    "ExecuteTime": {
     "end_time": "2018-06-29T16:19:22.684209Z",
     "start_time": "2018-06-29T16:19:15.658211Z"
    }
   },
   "outputs": [],
   "source": [
    "# initialise \n",
    "accept_count = 0\n",
    "F_T_list = []\n",
    "f_list = []\n",
    "\n",
    "for i in range(100):\n",
    "    # F_T\n",
    "    F_T = np.random.gamma(N_C + 1, scale_F_T(s, f, eps, w))\n",
    "    F_T_list.append(F_T)\n",
    "    \n",
    "    # lambda\n",
    "    lam = []\n",
    "    for i in range(N_C):\n",
    "        p = get_p_lam(f, eps, kappa, kappa_c, d[i], theta[i], varpi, w)\n",
    "        sample = np.asarray(np.random.multinomial(1, p))\n",
    "        lam.append(np.where(sample == 1)[0][0])\n",
    "\n",
    "    # f \n",
    "    f_new = np.random.normal(f, 0.1)\n",
    "    p_f_old = p_f(F_T, f, eps, lam, w, N_C, a, b)\n",
    "    p_f_new = p_f(F_T, f_new, eps, lam, w, N_C, a, b)\n",
    "    accept_ratio = p_f_new/p_f_old\n",
    "    check = np.random.uniform(0, 1)\n",
    "    if check <= accept_ratio:\n",
    "        f = f_new\n",
    "        accept_count += 1\n",
    "    else:\n",
    "        f = f\n",
    "    f_list.append(f)"
   ]
  },
  {
   "cell_type": "code",
   "execution_count": 8,
   "metadata": {
    "ExecuteTime": {
     "end_time": "2018-06-29T16:19:23.215952Z",
     "start_time": "2018-06-29T16:19:23.212458Z"
    }
   },
   "outputs": [
    {
     "name": "stdout",
     "output_type": "stream",
     "text": [
      "0.37\n"
     ]
    }
   ],
   "source": [
    "print(accept_count/100)"
   ]
  },
  {
   "cell_type": "code",
   "execution_count": 13,
   "metadata": {
    "ExecuteTime": {
     "end_time": "2018-06-29T16:23:07.892244Z",
     "start_time": "2018-06-29T16:23:07.694311Z"
    }
   },
   "outputs": [
    {
     "data": {
      "text/plain": [
       "[<matplotlib.lines.Line2D at 0x1187359b0>]"
      ]
     },
     "execution_count": 13,
     "metadata": {},
     "output_type": "execute_result"
    },
    {
     "data": {
      "image/png": "[encoded data removed]",
      "text/plain": [
       "<Figure size 432x288 with 1 Axes>"
      ]
     },
     "metadata": {},
     "output_type": "display_data"
    }
   ],
   "source": [
    "plt.plot(f_list)\n",
    "plt.plot(F_T_list)"
   ]
  },
  {
   "cell_type": "code",
   "execution_count": 10,
   "metadata": {
    "ExecuteTime": {
     "end_time": "2018-06-29T16:19:51.523182Z",
     "start_time": "2018-06-29T16:19:51.519723Z"
    }
   },
   "outputs": [],
   "source": [
    "# debug\n",
    "p = get_p_lam(f, eps, kappa, kappa_c, d[0], theta[0], varpi, w)"
   ]
  },
  {
   "cell_type": "code",
   "execution_count": null,
   "metadata": {},
   "outputs": [],
   "source": []
  }
 ],
 "metadata": {
  "kernelspec": {
   "display_name": "Python (bayes)",
   "language": "python",
   "name": "bayes"
  },
  "language_info": {
   "codemirror_mode": {
    "name": "ipython",
    "version": 3
   },
   "file_extension": ".py",
   "mimetype": "text/x-python",
   "name": "python",
   "nbconvert_exporter": "python",
   "pygments_lexer": "ipython3",
   "version": "3.6.4"
  }
 },
 "nbformat": 4,
 "nbformat_minor": 2
}
