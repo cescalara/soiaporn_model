{
 "cells": [
  {
   "cell_type": "markdown",
   "metadata": {},
   "source": [
    "# Soiaporn model\n",
    "\n",
    "Prototype the Metropolis-within-Gibbs sampling technique presented in Soiaporn et al. 2012.\n",
    "\n",
    "The full conditionals:\n",
    "\n",
    "$$\n",
    "F_T | f, \\lambda, D \\sim Gamma \\bigg(N_C +1, \\frac{1}{1/s + (1 - f)\\epsilon_0 + f \\sum_{k \\geq 1} w_k \\epsilon_k}\\bigg)\n",
    "$$\n",
    "\n",
    "$$\n",
    "P(\\lambda_i | F_T, f, D) \\propto \\frac{f_{\\lambda_i}}{\\epsilon_{\\lambda_i}} h_{\\lambda_i}\n",
    "$$\n",
    "\n",
    "Where $h_{j} = (1 - f) \\epsilon_0$ if $j = 0$ and $h_j = fw_j\\epsilon_j$ if $j \\geq 1$.\n",
    "\n",
    "$$\n",
    "P(f | \\lambda, F_T, D) \\propto e^{-F_T [  (1 - f)\\epsilon_0  + f \\sum_{k \\geq 1} \\epsilon_k w_k] } \\times (1-f)^{m_0(\\lambda) + b - 1}f^{N_C - m_0(\\lambda)+a-1}\n",
    "$$\n",
    "\n",
    "\n",
    "$F_T$ and $\\lambda$ are sampled directly from the gamma and multinomial distributions. $f$ is sampled using a random walk Metropolis algorithm with Gaussian proposals centred on the current value of $f$. The variance of the proposal distribution was tuned to give an acceptance rate of 25%.\n",
    "\n",
    "$\\kappa$ is treated specially, they consider a logarithmically spaced grid of values to condition on. So, treat $\\kappa$ as fixed. "
   ]
  },
  {
   "cell_type": "code",
   "execution_count": 2,
   "metadata": {
    "ExecuteTime": {
     "end_time": "2018-06-30T18:02:56.666988Z",
     "start_time": "2018-06-30T18:02:56.662755Z"
    }
   },
   "outputs": [],
   "source": [
    "import numpy as np\n",
    "from matplotlib import pyplot as plt\n",
    "from fancy import Data\n",
    "import pystan\n",
    "from soiaporn_functions import *"
   ]
  },
  {
   "cell_type": "markdown",
   "metadata": {},
   "source": [
    "## Set up"
   ]
  },
  {
   "cell_type": "code",
   "execution_count": 3,
   "metadata": {
    "ExecuteTime": {
     "end_time": "2018-06-30T18:02:57.285731Z",
     "start_time": "2018-06-30T18:02:57.278562Z"
    }
   },
   "outputs": [],
   "source": [
    "# choose initial values\n",
    "kappa = 100\n",
    "kappa_c = 1000\n",
    "F_T = 0.2 \n",
    "f = 0.5\n",
    "\n",
    "alpha_T = 20370\n",
    "M = 7.42\n",
    "\n",
    "# hyperparametrs\n",
    "a = 1\n",
    "b = a\n",
    "s = 0.01 * 4 * np.pi"
   ]
  },
  {
   "cell_type": "code",
   "execution_count": 4,
   "metadata": {
    "ExecuteTime": {
     "end_time": "2018-06-30T18:02:57.672743Z",
     "start_time": "2018-06-30T18:02:57.628908Z"
    }
   },
   "outputs": [],
   "source": [
    "# load data\n",
    "uhecr_file = '../uhecr_model/data/auger_UHECR_list.dat'\n",
    "source_file = 'data/agn_catalog.dat'\n",
    "\n",
    "data = Data()\n",
    "data.add_source(source_file, 'AGN')\n",
    "data.add_uhecr(uhecr_file, 'Auger2010')\n",
    "\n",
    "N_C = len(data.uhecr.energy)"
   ]
  },
  {
   "cell_type": "code",
   "execution_count": 5,
   "metadata": {
    "ExecuteTime": {
     "end_time": "2018-06-30T18:02:58.002406Z",
     "start_time": "2018-06-30T18:02:57.997438Z"
    }
   },
   "outputs": [],
   "source": [
    "# integral tables\n",
    "sim_table = 'data/tablekappa100.data.R'\n",
    "eps = pystan.read_rdump(sim_table)['table'][0]\n",
    "\n",
    "eps = eps * alpha_T / M"
   ]
  },
  {
   "cell_type": "code",
   "execution_count": 6,
   "metadata": {
    "ExecuteTime": {
     "end_time": "2018-06-30T18:02:58.425879Z",
     "start_time": "2018-06-30T18:02:58.422733Z"
    }
   },
   "outputs": [],
   "source": [
    "# weights\n",
    "w = get_weights(data.source.distance)"
   ]
  },
  {
   "cell_type": "code",
   "execution_count": 7,
   "metadata": {
    "ExecuteTime": {
     "end_time": "2018-06-30T18:02:58.731148Z",
     "start_time": "2018-06-30T18:02:58.727227Z"
    }
   },
   "outputs": [],
   "source": [
    "theta = np.deg2rad(data.uhecr.incidence_angle)\n",
    "d = data.uhecr.unit_vector\n",
    "varpi = data.source.unit_vector"
   ]
  },
  {
   "cell_type": "markdown",
   "metadata": {},
   "source": [
    "## Sampler"
   ]
  },
  {
   "cell_type": "code",
   "execution_count": 8,
   "metadata": {
    "ExecuteTime": {
     "end_time": "2018-06-30T18:10:19.802167Z",
     "start_time": "2018-06-30T18:02:59.990841Z"
    }
   },
   "outputs": [],
   "source": [
    "# initialise \n",
    "accept_count = 0\n",
    "F_T_list = []\n",
    "f_list = []\n",
    "\n",
    "for i in range(5000):\n",
    "    # F_T\n",
    "    F_T = np.random.gamma(N_C + 1, scale_F_T(s, f, eps, w))\n",
    "    F_T_list.append(F_T)\n",
    "    \n",
    "    # lambda\n",
    "    lam = []\n",
    "    for i in range(N_C):\n",
    "        p = get_p_lam(f, eps, kappa, kappa_c, d[i], theta[i], varpi, w)\n",
    "        sample = np.asarray(np.random.multinomial(1, p))\n",
    "        lam.append(np.where(sample == 1)[0][0])\n",
    "\n",
    "    # f \n",
    "    f_new = np.random.normal(f, 0.2)\n",
    "    while (f_new < 0):\n",
    "        f_new = np.random.normal(f, 0.2)\n",
    "    p_f_old = log_p_f(F_T, f, eps, lam, w, N_C, a, b)\n",
    "    p_f_new = log_p_f(F_T, f_new, eps, lam, w, N_C, a, b)\n",
    "    if(p_f_new > p_f_old):\n",
    "        f = f_new\n",
    "        accept_count += 1\n",
    "    else:\n",
    "        accept_ratio = np.exp(p_f_new - p_f_old)\n",
    "        check = np.random.uniform(0, 1)\n",
    "        if check <= accept_ratio:\n",
    "            f = f_new\n",
    "            accept_count += 1\n",
    "        else:\n",
    "            f = f\n",
    "    f_list.append(f)"
   ]
  },
  {
   "cell_type": "code",
   "execution_count": 9,
   "metadata": {
    "ExecuteTime": {
     "end_time": "2018-06-30T18:10:24.164725Z",
     "start_time": "2018-06-30T18:10:24.160936Z"
    }
   },
   "outputs": [
    {
     "name": "stdout",
     "output_type": "stream",
     "text": [
      "1.0\n",
      "0.1922\n"
     ]
    }
   ],
   "source": [
    "print(sum(p))\n",
    "print(accept_count/5000)"
   ]
  },
  {
   "cell_type": "code",
   "execution_count": 10,
   "metadata": {
    "ExecuteTime": {
     "end_time": "2018-06-30T18:10:26.157236Z",
     "start_time": "2018-06-30T18:10:25.736815Z"
    }
   },
   "outputs": [
    {
     "data": {
      "text/plain": [
       "[<matplotlib.lines.Line2D at 0x119df7f28>]"
      ]
     },
     "execution_count": 10,
     "metadata": {},
     "output_type": "execute_result"
    },
    {
     "data": {
      "image/png": "[encoded data removed]",
      "text/plain": [
       "<Figure size 432x288 with 1 Axes>"
      ]
     },
     "metadata": {},
     "output_type": "display_data"
    },
    {
     "data": {
      "image/png": "[encoded data removed]",
      "text/plain": [
       "<Figure size 432x288 with 1 Axes>"
      ]
     },
     "metadata": {},
     "output_type": "display_data"
    }
   ],
   "source": [
    "plt.figure()\n",
    "plt.plot(f_list)\n",
    "plt.figure()\n",
    "plt.plot(F_T_list)"
   ]
  },
  {
   "cell_type": "code",
   "execution_count": 11,
   "metadata": {
    "ExecuteTime": {
     "end_time": "2018-06-30T18:10:32.558721Z",
     "start_time": "2018-06-30T18:10:32.393658Z"
    }
   },
   "outputs": [
    {
     "data": {
      "text/plain": [
       "(array([4.073e+03, 7.470e+02, 1.530e+02, 2.300e+01, 0.000e+00, 0.000e+00,\n",
       "        0.000e+00, 0.000e+00, 3.000e+00, 1.000e+00]),\n",
       " array([3.91058622e-05, 5.00351953e-02, 1.00031285e-01, 1.50027374e-01,\n",
       "        2.00023464e-01, 2.50019553e-01, 3.00015642e-01, 3.50011732e-01,\n",
       "        4.00007821e-01, 4.50003911e-01, 5.00000000e-01]),\n",
       " <a list of 10 Patch objects>)"
      ]
     },
     "execution_count": 11,
     "metadata": {},
     "output_type": "execute_result"
    },
    {
     "data": {
      "image/png": "[encoded data removed]",
      "text/plain": [
       "<Figure size 432x288 with 1 Axes>"
      ]
     },
     "metadata": {},
     "output_type": "display_data"
    }
   ],
   "source": [
    "plt.hist(f_list)"
   ]
  },
  {
   "cell_type": "code",
   "execution_count": null,
   "metadata": {},
   "outputs": [],
   "source": []
  }
 ],
 "metadata": {
  "kernelspec": {
   "display_name": "Python (bayes)",
   "language": "python",
   "name": "bayes"
  },
  "language_info": {
   "codemirror_mode": {
    "name": "ipython",
    "version": 3
   },
   "file_extension": ".py",
   "mimetype": "text/x-python",
   "name": "python",
   "nbconvert_exporter": "python",
   "pygments_lexer": "ipython3",
   "version": "3.6.4"
  }
 },
 "nbformat": 4,
 "nbformat_minor": 2
}
