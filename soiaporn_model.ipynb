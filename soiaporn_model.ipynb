{
 "cells": [
  {
   "cell_type": "markdown",
   "metadata": {},
   "source": [
    "# Soiaporn model\n",
    "\n",
    "Prototype the Metropolis-within-Gibbs sampling technique presented in Soiaporn et al. 2012.\n",
    "\n",
    "The full conditionals:\n",
    "\n",
    "$$\n",
    "F_T | f, \\lambda, D \\sim Gamma \\bigg(N_C +1, \\frac{1}{1/s + (1 - f)\\epsilon_0 + f \\sum_{k \\geq 1} w_k \\epsilon_k}\\bigg)\n",
    "$$\n",
    "\n",
    "$$\n",
    "P(\\lambda_i | F_T, f, D) \\propto \\frac{f_{\\lambda_i}}{\\epsilon_{\\lambda_i}} h_{\\lambda_i}\n",
    "$$\n",
    "\n",
    "Where $h_{j} = (1 - f) \\epsilon_0$ if $j = 0$ and $h_j = fw_j\\epsilon_j$ if $j \\geq 1$.\n",
    "\n",
    "$$\n",
    "P(f | \\lambda, F_T, D) \\propto e^{-F_T [  (1 - f)\\epsilon_0  + f \\sum_{k \\geq 1} \\epsilon_k w_k] } \\times (1-f)^{m_0(\\lambda) + b - 1}f^{N_C - m_0(\\lambda)+a-1}\n",
    "$$\n",
    "\n",
    "\n",
    "$F_T$ and $\\lambda$ are sampled directly from the gamma and multinomial distributions. $f$ is sampled using a random walk Metropolis algorithm with Gaussian proposals centred on the current value of $f$. The variance of the proposal distribution was tuned to give an acceptance rate of 25%.\n",
    "\n",
    "$\\kappa$ is treated specially, they consider a logarithmically spaced grid of values to condition on. So, treat $\\kappa$ as fixed. "
   ]
  },
  {
   "cell_type": "code",
   "execution_count": 1,
   "metadata": {
    "ExecuteTime": {
     "end_time": "2018-06-29T16:02:46.295860Z",
     "start_time": "2018-06-29T16:02:44.338009Z"
    }
   },
   "outputs": [],
   "source": [
    "import numpy as np\n",
    "from fancy import Data\n",
    "import pystan\n",
    "from soiaporn_functions import *"
   ]
  },
  {
   "cell_type": "markdown",
   "metadata": {},
   "source": [
    "## Set up"
   ]
  },
  {
   "cell_type": "code",
   "execution_count": 2,
   "metadata": {
    "ExecuteTime": {
     "end_time": "2018-06-29T16:02:46.304859Z",
     "start_time": "2018-06-29T16:02:46.298238Z"
    }
   },
   "outputs": [],
   "source": [
    "# choose initial values\n",
    "kappa = 10\n",
    "kappa_c = 100\n",
    "F_T = 0.2 \n",
    "f = 0.5\n",
    "\n",
    "alpha_T = 20370\n",
    "M = 7.42\n",
    "\n",
    "# hyperparametrs\n",
    "a = 1\n",
    "b = a\n",
    "s = 0.01 * 4 * np.pi"
   ]
  },
  {
   "cell_type": "code",
   "execution_count": 3,
   "metadata": {
    "ExecuteTime": {
     "end_time": "2018-06-29T16:02:46.352234Z",
     "start_time": "2018-06-29T16:02:46.307186Z"
    }
   },
   "outputs": [],
   "source": [
    "# load data\n",
    "uhecr_file = '../uhecr_model/data/auger_UHECR_list.dat'\n",
    "source_file = 'data/agn_catalog.dat'\n",
    "\n",
    "data = Data()\n",
    "data.add_source(source_file, 'AGN')\n",
    "data.add_uhecr(uhecr_file, 'Auger2010')\n",
    "\n",
    "N_C = len(data.uhecr.energy)"
   ]
  },
  {
   "cell_type": "code",
   "execution_count": 4,
   "metadata": {
    "ExecuteTime": {
     "end_time": "2018-06-29T16:02:46.360977Z",
     "start_time": "2018-06-29T16:02:46.355244Z"
    }
   },
   "outputs": [],
   "source": [
    "# integral tables\n",
    "sim_table = 'data/tablekappa100.data.R'\n",
    "eps = pystan.read_rdump(sim_table)['table'][0]\n",
    "\n",
    "eps = eps * alpha_T / M"
   ]
  },
  {
   "cell_type": "code",
   "execution_count": 5,
   "metadata": {
    "ExecuteTime": {
     "end_time": "2018-06-29T16:02:46.862507Z",
     "start_time": "2018-06-29T16:02:46.859253Z"
    }
   },
   "outputs": [],
   "source": [
    "# weights\n",
    "w = get_weights(data.source.distance)"
   ]
  },
  {
   "cell_type": "code",
   "execution_count": 6,
   "metadata": {
    "ExecuteTime": {
     "end_time": "2018-06-29T16:02:47.054617Z",
     "start_time": "2018-06-29T16:02:47.050332Z"
    }
   },
   "outputs": [],
   "source": [
    "theta = np.deg2rad(data.uhecr.incidence_angle)\n",
    "d = data.uhecr.unit_vector\n",
    "varpi = data.source.unit_vector"
   ]
  },
  {
   "cell_type": "markdown",
   "metadata": {},
   "source": [
    "## Sampler"
   ]
  },
  {
   "cell_type": "code",
   "execution_count": 9,
   "metadata": {
    "ExecuteTime": {
     "end_time": "2018-06-29T16:03:47.256134Z",
     "start_time": "2018-06-29T16:03:47.203097Z"
    }
   },
   "outputs": [
    {
     "ename": "ValueError",
     "evalue": "sum(pvals[:-1]) > 1.0",
     "output_type": "error",
     "traceback": [
      "\u001b[0;31m---------------------------------------------------------------------------\u001b[0m",
      "\u001b[0;31mValueError\u001b[0m                                Traceback (most recent call last)",
      "\u001b[0;32m<ipython-input-9-9e5a601b4ae3>\u001b[0m in \u001b[0;36m<module>\u001b[0;34m()\u001b[0m\n\u001b[1;32m     15\u001b[0m         \u001b[0;32mif\u001b[0m \u001b[0msum\u001b[0m\u001b[0;34m(\u001b[0m\u001b[0mp\u001b[0m\u001b[0;34m)\u001b[0m \u001b[0;34m>\u001b[0m \u001b[0;36m1.0\u001b[0m\u001b[0;34m:\u001b[0m\u001b[0;34m\u001b[0m\u001b[0m\n\u001b[1;32m     16\u001b[0m             \u001b[0mp\u001b[0m \u001b[0;34m=\u001b[0m \u001b[0mp\u001b[0m \u001b[0;34m-\u001b[0m \u001b[0;36m0.001\u001b[0m\u001b[0;34m\u001b[0m\u001b[0m\n\u001b[0;32m---> 17\u001b[0;31m         \u001b[0msample\u001b[0m \u001b[0;34m=\u001b[0m \u001b[0mnp\u001b[0m\u001b[0;34m.\u001b[0m\u001b[0masarray\u001b[0m\u001b[0;34m(\u001b[0m\u001b[0mnp\u001b[0m\u001b[0;34m.\u001b[0m\u001b[0mrandom\u001b[0m\u001b[0;34m.\u001b[0m\u001b[0mmultinomial\u001b[0m\u001b[0;34m(\u001b[0m\u001b[0;36m1\u001b[0m\u001b[0;34m,\u001b[0m \u001b[0mp\u001b[0m\u001b[0;34m)\u001b[0m\u001b[0;34m)\u001b[0m\u001b[0;34m\u001b[0m\u001b[0m\n\u001b[0m\u001b[1;32m     18\u001b[0m         \u001b[0mlam\u001b[0m\u001b[0;34m.\u001b[0m\u001b[0mappend\u001b[0m\u001b[0;34m(\u001b[0m\u001b[0mnp\u001b[0m\u001b[0;34m.\u001b[0m\u001b[0mwhere\u001b[0m\u001b[0;34m(\u001b[0m\u001b[0msample\u001b[0m \u001b[0;34m==\u001b[0m \u001b[0;36m1\u001b[0m\u001b[0;34m)\u001b[0m\u001b[0;34m[\u001b[0m\u001b[0;36m0\u001b[0m\u001b[0;34m]\u001b[0m\u001b[0;34m[\u001b[0m\u001b[0;36m0\u001b[0m\u001b[0;34m]\u001b[0m\u001b[0;34m)\u001b[0m\u001b[0;34m\u001b[0m\u001b[0m\n\u001b[1;32m     19\u001b[0m \u001b[0;34m\u001b[0m\u001b[0m\n",
      "\u001b[0;32mmtrand.pyx\u001b[0m in \u001b[0;36mmtrand.RandomState.multinomial\u001b[0;34m()\u001b[0m\n",
      "\u001b[0;31mValueError\u001b[0m: sum(pvals[:-1]) > 1.0"
     ]
    }
   ],
   "source": [
    "# initialise \n",
    "accept_count = 0\n",
    "F_T_list = []\n",
    "f_list = []\n",
    "\n",
    "for i in range(100):\n",
    "    # F_T\n",
    "    F_T = np.random.gamma(N_C + 1, scale_F_T(s, f, eps, w))\n",
    "    F_T_list.append(F_T)\n",
    "    \n",
    "    # lambda\n",
    "    lam = []\n",
    "    for i in range(N_C):\n",
    "        p = get_p_lam(f, eps, kappa, kappa_c, d[i], theta[i], varpi, w)\n",
    "        sample = np.asarray(np.random.multinomial(1, p))\n",
    "        lam.append(np.where(sample == 1)[0][0])\n",
    "\n",
    "    # f \n",
    "    f_new = np.random.normal(f, 0.1)\n",
    "    p_f_old = p_f(F_T, f, eps, lam, w, N_C, a, b)\n",
    "    p_f_new = p_f(F_T, f_new, eps, lam, w, N_C, a, b)\n",
    "    accept_ratio = p_f_new/p_f_old\n",
    "    check = np.random.uniform(0, 1)\n",
    "    if check <= accept_ratio:\n",
    "        f = f_new\n",
    "        accept_count += 1\n",
    "    else:\n",
    "        f = f\n",
    "    f_list.append(f)"
   ]
  },
  {
   "cell_type": "code",
   "execution_count": null,
   "metadata": {
    "ExecuteTime": {
     "end_time": "2018-06-29T15:57:55.230970Z",
     "start_time": "2018-06-29T15:57:55.227150Z"
    }
   },
   "outputs": [],
   "source": [
    "print(accept_count/ 100)"
   ]
  },
  {
   "cell_type": "code",
   "execution_count": null,
   "metadata": {},
   "outputs": [],
   "source": []
  }
 ],
 "metadata": {
  "kernelspec": {
   "display_name": "Python (bayes)",
   "language": "python",
   "name": "bayes"
  },
  "language_info": {
   "codemirror_mode": {
    "name": "ipython",
    "version": 3
   },
   "file_extension": ".py",
   "mimetype": "text/x-python",
   "name": "python",
   "nbconvert_exporter": "python",
   "pygments_lexer": "ipython3",
   "version": "3.6.4"
  }
 },
 "nbformat": 4,
 "nbformat_minor": 2
}
