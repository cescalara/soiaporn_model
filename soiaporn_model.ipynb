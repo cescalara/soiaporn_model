{
 "cells": [
  {
   "cell_type": "markdown",
   "metadata": {},
   "source": [
    "# Soiaporn model\n",
    "\n",
    "Prototype the Metropolis-within-Gibbs sampling technique presented in Soiaporn et al. 2012.\n",
    "\n",
    "The full conditionals:\n",
    "\n",
    "$$\n",
    "F_T | f, \\lambda, D \\sim Gamma \\bigg(N_C +1, \\frac{1}{1/s + (1 - f)\\epsilon_0 + f \\sum_{k \\geq 1} w_k \\epsilon_k}\\bigg)\n",
    "$$\n",
    "\n",
    "$$\n",
    "P(\\lambda_i | F_T, f, D) \\propto \\frac{f_{\\lambda_i}}{\\epsilon_{\\lambda_i}} h_{\\lambda_i}\n",
    "$$\n",
    "\n",
    "Where $h_{j} = (1 - f) \\epsilon_0$ if $j = 0$ and $h_j = fw_j\\epsilon_j$ if $j \\geq 1$.\n",
    "\n",
    "$$\n",
    "P(f | \\lambda, F_T, D) \\propto e^{-F_T [  (1 - f)\\epsilon_0  + f \\sum_{k \\geq 1} \\epsilon_k w_k] } \\times (1-f)^{m_0(\\lambda) + b - 1}f^{N_C - m_0(\\lambda)+a-1}\n",
    "$$\n",
    "\n",
    "\n",
    "$F_T$ and $\\lambda$ are sampled directly from the gamma and multinomial distributions. $f$ is sampled using a random walk Metropolis algorithm with Gaussian proposals centred on the current value of $f$. The variance of the proposal distribution was tuned to give an acceptance rate of 25%.\n",
    "\n",
    "$\\kappa$ is treated specially, they consider a logarithmically spaced grid of values to condition on. So, treat $\\kappa$ as fixed. "
   ]
  },
  {
   "cell_type": "code",
   "execution_count": null,
   "metadata": {
    "ExecuteTime": {
     "end_time": "2018-07-01T12:48:11.605786Z",
     "start_time": "2018-07-01T12:48:09.512558Z"
    }
   },
   "outputs": [],
   "source": [
    "import numpy as np\n",
    "from matplotlib import pyplot as plt\n",
    "from fancy import Data\n",
    "import pystan\n",
    "import seaborn as sns\n",
    "from metropolis_within_gibbs import *"
   ]
  },
  {
   "cell_type": "markdown",
   "metadata": {},
   "source": [
    "## Set up\n",
    "\n",
    "Define input parameters and data. NB: $A = 3000 km^2$ and $\\alpha_T = 20370 km^2 sr year$ are defined in `soiaporn_functions.py`."
   ]
  },
  {
   "cell_type": "code",
   "execution_count": null,
   "metadata": {
    "ExecuteTime": {
     "end_time": "2018-07-01T12:48:11.612730Z",
     "start_time": "2018-07-01T12:48:11.608279Z"
    }
   },
   "outputs": [],
   "source": [
    "# fixed parameters\n",
    "kappa = 100\n",
    "kappa_c = 1000\n",
    "\n",
    "# hyperparametrs\n",
    "a = 1 \n",
    "b = 1\n",
    "s = 0.01 * 4 * np.pi"
   ]
  },
  {
   "cell_type": "code",
   "execution_count": null,
   "metadata": {
    "ExecuteTime": {
     "end_time": "2018-07-01T12:48:11.703926Z",
     "start_time": "2018-07-01T12:48:11.615031Z"
    }
   },
   "outputs": [],
   "source": [
    "# load data\n",
    "uhecr_file = 'data/augerUHECR_data2010.dat'\n",
    "source_file = 'data/agn_catalog.dat'\n",
    "\n",
    "data = Data()\n",
    "data.add_source(source_file, 'AGN')\n",
    "data.add_uhecr(uhecr_file, 'Auger2010')\n",
    "\n",
    "N_C = len(data.uhecr.energy)\n",
    "theta = np.deg2rad(data.uhecr.incidence_angle)\n",
    "d = data.uhecr.unit_vector\n",
    "varpi = data.source.unit_vector\n",
    "D = data.source.distance"
   ]
  },
  {
   "cell_type": "code",
   "execution_count": null,
   "metadata": {
    "ExecuteTime": {
     "end_time": "2018-07-01T12:48:11.712523Z",
     "start_time": "2018-07-01T12:48:11.706569Z"
    }
   },
   "outputs": [],
   "source": [
    "# integral tables\n",
    "sim_table = 'data/tablekappa100.data.R'\n",
    "eps = pystan.read_rdump(sim_table)['table'][0]\n",
    "alpha_T = 20370\n",
    "M = 7.42\n",
    "eps = eps * alpha_T / M"
   ]
  },
  {
   "cell_type": "markdown",
   "metadata": {},
   "source": [
    "## Recreate Fig. 4 in Soiaporn et al. \n",
    "\n",
    "Find the marginal posterior of $f$ for the different values of $\\kappa$: [10, 31.6, 100, 316, 1000]. Use all the UHECR data."
   ]
  },
  {
   "cell_type": "code",
   "execution_count": null,
   "metadata": {
    "ExecuteTime": {
     "start_time": "2018-07-01T12:48:11.734Z"
    }
   },
   "outputs": [],
   "source": [
    "kappa = [10, 31.6, 100, 316, 1000]\n",
    "input_data = InputData(d, theta, varpi, D, eps)\n",
    "sample_set = []\n",
    "\n",
    "for k in kappa:\n",
    "    input_parameters = InputParameters(k, kappa_c, a, b, s)\n",
    "    sampler = MetropolisWithinGibbs(input_data, input_parameters)\n",
    "    sampler.Sample(Niter = 2000, Nchain = 2)\n",
    "    sample_set.append(sampler.total_samples)"
   ]
  },
  {
   "cell_type": "code",
   "execution_count": null,
   "metadata": {
    "ExecuteTime": {
     "end_time": "2018-07-01T12:38:50.027464Z",
     "start_time": "2018-07-01T12:38:49.733616Z"
    }
   },
   "outputs": [],
   "source": [
    "sampler.traceplot()"
   ]
  },
  {
   "cell_type": "code",
   "execution_count": null,
   "metadata": {
    "ExecuteTime": {
     "end_time": "2018-07-01T12:41:23.651520Z",
     "start_time": "2018-07-01T12:41:23.635731Z"
    }
   },
   "outputs": [],
   "source": [
    "# plot\n",
    "for i in range(len(sample_set)):\n",
    "    sns.distplot(sample_set[i].f, label = '$\\kappa$: ' + str(kappa[i]))"
   ]
  },
  {
   "cell_type": "code",
   "execution_count": null,
   "metadata": {},
   "outputs": [],
   "source": []
  }
 ],
 "metadata": {
  "kernelspec": {
   "display_name": "Python (bayes)",
   "language": "python",
   "name": "bayes"
  },
  "language_info": {
   "codemirror_mode": {
    "name": "ipython",
    "version": 3
   },
   "file_extension": ".py",
   "mimetype": "text/x-python",
   "name": "python",
   "nbconvert_exporter": "python",
   "pygments_lexer": "ipython3",
   "version": "3.6.4"
  }
 },
 "nbformat": 4,
 "nbformat_minor": 2
}
