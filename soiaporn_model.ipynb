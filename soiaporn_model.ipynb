{
 "cells": [
  {
   "cell_type": "markdown",
   "metadata": {},
   "source": [
    "# Soiaporn model\n",
    "\n",
    "Prototype the Metropolis-within-Gibbs sampling technique presented in Soiaporn et al. 2012.\n",
    "\n",
    "The full conditionals:\n",
    "\n",
    "$$\n",
    "F_T | f, \\lambda, D \\sim Gamma \\bigg(N_C +1, \\frac{1}{1/s + (1 - f)\\epsilon_0 + f \\sum_{k \\geq 1} w_k \\epsilon_k}\\bigg)\n",
    "$$\n",
    "\n",
    "$$\n",
    "P(\\lambda_i | F_T, f, D) \\propto \\frac{f_{\\lambda_i}}{\\epsilon_{\\lambda_i}} h_{\\lambda_i}\n",
    "$$\n",
    "\n",
    "Where $h_{j} = (1 - f) \\epsilon_0$ if $j = 0$ and $h_j = fw_j\\epsilon_j$ if $j \\geq 1$.\n",
    "\n",
    "$$\n",
    "P(f | \\lambda, F_T, D) \\propto e^{-F_T [  (1 - f)\\epsilon_0  + f \\sum_{k \\geq 1} \\epsilon_k w_k] } \\times (1-f)^{m_0(\\lambda) + b - 1}f^{N_C - m_0(\\lambda)+a-1}\n",
    "$$\n",
    "\n",
    "\n",
    "$F_T$ and $\\lambda$ are sampled directly from the gamma and multinomial distributions. $f$ is sampled using a random walk Metropolis algorithm with Gaussian proposals centred on the current value of $f$. The variance of the proposal distribution was tuned to give an acceptance rate of 25%.\n",
    "\n",
    "$\\kappa$ is treated specially, they consider a logarithmically spaced grid of values to condition on. So, treat $\\kappa$ as fixed. "
   ]
  },
  {
   "cell_type": "code",
   "execution_count": null,
   "metadata": {
    "ExecuteTime": {
     "end_time": "2018-07-11T20:06:06.717288Z",
     "start_time": "2018-07-11T20:06:06.711444Z"
    }
   },
   "outputs": [],
   "source": [
    "import numpy as np\n",
    "from matplotlib import pyplot as plt\n",
    "import sys\n",
    "sys.path.append('../fancy')\n",
    "from fancy import Data\n",
    "import pystan\n",
    "import seaborn as sns\n",
    "from metropolis_within_gibbs import *"
   ]
  },
  {
   "cell_type": "markdown",
   "metadata": {},
   "source": [
    "## Set up\n",
    "\n",
    "Define input parameters and data. NB: $\\alpha_T = 20370 km^2 sr year$ is defined in `soiaporn_functions.py`."
   ]
  },
  {
   "cell_type": "code",
   "execution_count": null,
   "metadata": {
    "ExecuteTime": {
     "end_time": "2018-07-11T20:06:15.978834Z",
     "start_time": "2018-07-11T20:06:15.974307Z"
    }
   },
   "outputs": [],
   "source": [
    "# fixed parameters\n",
    "#kappa = 100\n",
    "kappa_c = 9323\n",
    "\n",
    "# hyperparametrs\n",
    "a = 1 \n",
    "b = a\n",
    "s = 0.01 * 4 * np.pi"
   ]
  },
  {
   "cell_type": "code",
   "execution_count": null,
   "metadata": {
    "ExecuteTime": {
     "end_time": "2018-07-11T20:08:02.748378Z",
     "start_time": "2018-07-11T20:08:02.707214Z"
    }
   },
   "outputs": [],
   "source": [
    "# load data\n",
    "uhecr_file = 'data/augerUHECR_data2010.dat'\n",
    "source_file = 'data/agn_catalog.dat'\n",
    "\n",
    "data = Data()\n",
    "data.add_source(source_file, 'AGN')\n",
    "data.add_uhecr(uhecr_file, 'Auger2010')\n",
    "\n",
    "N_C = len(data.uhecr.energy)\n",
    "theta = np.deg2rad(data.uhecr.incidence_angle)\n",
    "d = data.uhecr.unit_vector\n",
    "varpi = data.source.unit_vector\n",
    "D = data.source.distance\n",
    "A = data.uhecr.A"
   ]
  },
  {
   "cell_type": "code",
   "execution_count": null,
   "metadata": {
    "ExecuteTime": {
     "end_time": "2018-07-11T20:08:35.625550Z",
     "start_time": "2018-07-11T20:08:35.613871Z"
    },
    "scrolled": true
   },
   "outputs": [],
   "source": [
    "# integral tables\n",
    "from fancy.interfaces.integration import ExposureIntegralTable\n",
    "from fancy.detector.auger import M, alpha_T, auger_params\n",
    "\n",
    "my_table_file = 'tableforfig4.data.R'\n",
    "\n",
    "params = auger_params\n",
    "\n",
    "kappa = [10, 31.6, 100, 316, 1000]\n",
    "\n",
    "#my_table = ExposureIntegralTable(kappa, varpi, params, filename = my_table_file)\n",
    "#my_table.build()\n",
    "\n",
    "eps = np.transpose(pystan.read_rdump(my_table_file)['table'])"
   ]
  },
  {
   "cell_type": "markdown",
   "metadata": {},
   "source": [
    "## Recreate Fig. 4 in Soiaporn et al. \n",
    "\n",
    "Find the marginal posterior of $f$ for the different values of $\\kappa$: [10, 31.6, 100, 316, 1000]. Use all the UHECR data."
   ]
  },
  {
   "cell_type": "code",
   "execution_count": null,
   "metadata": {
    "ExecuteTime": {
     "start_time": "2018-07-11T20:08:48.350Z"
    }
   },
   "outputs": [],
   "source": [
    "sample_set = []\n",
    "samplers = []\n",
    "#for i in range(len(kappa)):\n",
    "\n",
    "kappa = 10\n",
    "eps_k = eps[0]\n",
    "\n",
    "input_data = InputData(d, A, theta, varpi, D, eps_k)\n",
    "input_parameters = InputParameters(kappa, kappa_c, a, b, s)\n",
    "sampler = MetropolisWithinGibbs(input_data, input_parameters)\n",
    "sampler.Sample(Niter = 1000, Nchain = 2)\n",
    "\n",
    "#sample_set.append(sampler.total_samples)\n",
    "#samplers.append(sampler)"
   ]
  },
  {
   "cell_type": "code",
   "execution_count": null,
   "metadata": {
    "ExecuteTime": {
     "end_time": "2018-07-02T19:17:57.417524Z",
     "start_time": "2018-07-02T19:17:56.251693Z"
    },
    "scrolled": true
   },
   "outputs": [],
   "source": [
    "sns.set_style(\"dark\")\n",
    "for s in samplers:\n",
    "    s.traceplot()"
   ]
  },
  {
   "cell_type": "code",
   "execution_count": null,
   "metadata": {
    "ExecuteTime": {
     "end_time": "2018-07-02T19:19:35.931878Z",
     "start_time": "2018-07-02T19:19:35.927748Z"
    }
   },
   "outputs": [],
   "source": [
    "sampler.neff.F_T"
   ]
  },
  {
   "cell_type": "code",
   "execution_count": null,
   "metadata": {
    "ExecuteTime": {
     "end_time": "2018-07-02T19:18:03.956941Z",
     "start_time": "2018-07-02T19:18:03.045517Z"
    }
   },
   "outputs": [],
   "source": [
    "# plot\n",
    "for i in range(len(sample_set)):\n",
    "    sns.distplot(sample_set[i].f, label = '$\\kappa$: ' + str(kappa[i]))\n",
    "plt.legend()"
   ]
  },
  {
   "cell_type": "code",
   "execution_count": null,
   "metadata": {
    "ExecuteTime": {
     "end_time": "2018-07-02T19:18:30.847508Z",
     "start_time": "2018-07-02T19:18:30.271762Z"
    }
   },
   "outputs": [],
   "source": [
    "for i in range(len(sample_set)):\n",
    "    plt.scatter(sample_set[i].f, sample_set[i].F_T, alpha = 0.1)"
   ]
  },
  {
   "cell_type": "code",
   "execution_count": null,
   "metadata": {},
   "outputs": [],
   "source": []
  }
 ],
 "metadata": {
  "kernelspec": {
   "display_name": "Python (bayes)",
   "language": "python",
   "name": "bayes"
  },
  "language_info": {
   "codemirror_mode": {
    "name": "ipython",
    "version": 3
   },
   "file_extension": ".py",
   "mimetype": "text/x-python",
   "name": "python",
   "nbconvert_exporter": "python",
   "pygments_lexer": "ipython3",
   "version": "3.6.4"
  }
 },
 "nbformat": 4,
 "nbformat_minor": 2
}
